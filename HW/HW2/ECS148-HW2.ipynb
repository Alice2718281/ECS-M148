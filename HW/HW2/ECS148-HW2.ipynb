{
 "cells": [
  {
   "cell_type": "markdown",
   "id": "dca270c6",
   "metadata": {},
   "source": [
    "# Question 1"
   ]
  },
  {
   "cell_type": "code",
   "execution_count": 1,
   "id": "ddb1d431",
   "metadata": {},
   "outputs": [],
   "source": [
    "import numpy as np\n",
    "from matplotlib import pyplot as plt"
   ]
  },
  {
   "cell_type": "code",
   "execution_count": 2,
   "id": "9beeebfe",
   "metadata": {
    "scrolled": true
   },
   "outputs": [],
   "source": [
    "data = np.array([\n",
    "    [1, 1],\n",
    "    [2, 4],\n",
    "    [3.2, 6],\n",
    "    [4, 3],\n",
    "    [5, 2],\n",
    "    [6, 2],\n",
    "])\n",
    "x, y = data.T"
   ]
  },
  {
   "cell_type": "code",
   "execution_count": 3,
   "id": "99ddcdab",
   "metadata": {},
   "outputs": [],
   "source": [
    "from sklearn.neighbors import KNeighborsRegressor\n",
    "from sklearn import neighbors"
   ]
  },
  {
   "cell_type": "code",
   "execution_count": 4,
   "id": "bd719091",
   "metadata": {},
   "outputs": [],
   "source": [
    "x_train = x.reshape(-1, 1)\n",
    "y_train = y.reshape(-1, 1)"
   ]
  },
  {
   "cell_type": "code",
   "execution_count": 5,
   "id": "3d168253",
   "metadata": {},
   "outputs": [],
   "source": [
    "test = np.linspace(0,7,50)[:, np.newaxis]"
   ]
  },
  {
   "cell_type": "code",
   "execution_count": 6,
   "id": "b502c21d",
   "metadata": {},
   "outputs": [],
   "source": [
    "K = [1,2,3,6]"
   ]
  },
  {
   "cell_type": "markdown",
   "id": "0d252051",
   "metadata": {},
   "source": [
    "#### Check RMSE to compare different K value"
   ]
  },
  {
   "cell_type": "code",
   "execution_count": 7,
   "id": "f885c808",
   "metadata": {},
   "outputs": [
    {
     "name": "stdout",
     "output_type": "stream",
     "text": [
      "RMSE for K= 1 is 0.0 \n",
      "\n",
      "RMSE for K= 2 is 1.241638702145945 \n",
      "\n",
      "RMSE for K= 3 is 1.3333333333333333 \n",
      "\n",
      "RMSE for K= 6 is 1.632993161855452 \n",
      "\n"
     ]
    }
   ],
   "source": [
    "from math import sqrt\n",
    "from sklearn.metrics import mean_squared_error\n",
    "rmse_val = []\n",
    "pred2 = []\n",
    "for k in K:\n",
    "    model2 = neighbors.KNeighborsRegressor(n_neighbors = k)\n",
    "    model2.fit(x_train, y_train)\n",
    "    prediction2 = model2.predict(x_train)\n",
    "    pred2.append(prediction2)\n",
    "    error = sqrt(mean_squared_error(y_train,prediction2))\n",
    "    rmse_val.append(error)\n",
    "    print(\"RMSE for K=\",k, \"is\", error,\"\\n\")"
   ]
  },
  {
   "cell_type": "code",
   "execution_count": 8,
   "id": "0955352b",
   "metadata": {},
   "outputs": [
    {
     "data": {
      "image/png": "[encoded data removed]",
      "text/plain": [
       "<Figure size 432x288 with 1 Axes>"
      ]
     },
     "metadata": {
      "needs_background": "light"
     },
     "output_type": "display_data"
    }
   ],
   "source": [
    "plt.plot(K,rmse_val)\n",
    "plt.title(\"Compare choice of K\")\n",
    "plt.xlabel(\"K value\")\n",
    "plt.ylabel(\"RMSE\")\n",
    "plt.show()"
   ]
  },
  {
   "cell_type": "markdown",
   "id": "9a97aedb",
   "metadata": {},
   "source": [
    "**k=2** should be the best k because it has relatively low RMSE as we can see directly from above plot. k=1 has overfitting problem. k=3 or 6 have higher RMSE than k=2. "
   ]
  },
  {
   "cell_type": "code",
   "execution_count": 9,
   "id": "8f14100f",
   "metadata": {},
   "outputs": [],
   "source": [
    "test_hw2 =  np.array([\n",
    "    [1.25, 2],\n",
    "    [3.4, 5],\n",
    "    [4.25, 2.5]\n",
    "])\n",
    "x2, y2 = test_hw2.T"
   ]
  },
  {
   "cell_type": "code",
   "execution_count": 10,
   "id": "d09e127d",
   "metadata": {},
   "outputs": [],
   "source": [
    "x2_test = x2.reshape(-1, 1)\n",
    "y2_test = y2.reshape(-1, 1)"
   ]
  },
  {
   "cell_type": "code",
   "execution_count": 11,
   "id": "9b9e2d78",
   "metadata": {},
   "outputs": [
    {
     "name": "stdout",
     "output_type": "stream",
     "text": [
      "RMSE for K= 1 is 0.8660254037844386 \n",
      "\n",
      "RMSE for K= 2 is 0.408248290463863 \n",
      "\n",
      "RMSE for K= 3 is 1.2360330811826103 \n",
      "\n",
      "RMSE for K= 6 is 1.3228756555322954 \n",
      "\n"
     ]
    }
   ],
   "source": [
    "rmse_val2 = []\n",
    "pred22 = []\n",
    "for k in K:\n",
    "    model2 = neighbors.KNeighborsRegressor(n_neighbors = k)\n",
    "    model2.fit(x_train, y_train)\n",
    "    prediction22 = model2.predict(x2_test)\n",
    "    pred22.append(prediction22)\n",
    "    error2 = sqrt(mean_squared_error(y2_test,prediction22))\n",
    "    rmse_val2.append(error2)\n",
    "    print(\"RMSE for K=\",k, \"is\", error2,\"\\n\")"
   ]
  },
  {
   "cell_type": "code",
   "execution_count": 12,
   "id": "aee7b5d7",
   "metadata": {},
   "outputs": [
    {
     "data": {
      "image/png": "[encoded data removed]",
      "text/plain": [
       "<Figure size 432x288 with 1 Axes>"
      ]
     },
     "metadata": {
      "needs_background": "light"
     },
     "output_type": "display_data"
    }
   ],
   "source": [
    "plt.plot(K,rmse_val2)\n",
    "plt.title(\"New Compare choice of K\")\n",
    "plt.xlabel(\"K value\")\n",
    "plt.ylabel(\"RMSE\")\n",
    "plt.show()"
   ]
  },
  {
   "cell_type": "markdown",
   "id": "c040d286",
   "metadata": {},
   "source": [
    "**k=2** still is the best K value because it has lowest RMSE and relatively simple model. "
   ]
  },
  {
   "cell_type": "markdown",
   "id": "65b962b6",
   "metadata": {},
   "source": [
    "# Question 2"
   ]
  },
  {
   "cell_type": "markdown",
   "id": "ea9e6343",
   "metadata": {},
   "source": [
    "## (a):"
   ]
  },
  {
   "cell_type": "markdown",
   "id": "d891abec",
   "metadata": {},
   "source": [
    "Conditions for the derivative of the MSE that is necessary for β0, β1 to be optimal: \n",
    "\n",
    "Use Method of Least Squares to find minimum: $(\\hat{\\beta_0}, \\hat{\\beta_1})=\\arg \\max_{\\beta_0,\\beta_1} \\sum_{i=1}^{n} (y_i-\\beta_0-\\beta_1*x_i)^2$\n",
    "\n",
    "$$ Q = \\sum_{i=1}^{n} (y_i-\\beta_0-\\beta_1*x_i)^2 $$\n",
    "\n",
    "Take derivative respect to $\\beta_0$ and $\\beta_1$ set them equal to zero and solve:\n",
    "\n",
    "$$\\frac{\\partial Q}{\\partial \\beta_0} = -2\\sum_{i=1}^{n} (y_i-\\beta_0-\\beta_1*x_i) = 0$$\n",
    "$$\\frac{\\partial Q}{\\partial \\beta_1} = -2\\sum_{i=1}^{n} (y_i-\\beta_0-\\beta_1*x_i) = 0$$\n",
    "\n",
    "Rearrange the previous two equations so that:\n",
    "\n",
    "$$n\\beta_0+\\beta_1 \\sum_{i=1}^{n} x_i = \\sum_{i=1}^{n} y_i$$ (1)\n",
    "$$\\beta_0\\sum_{i=1}^{n} x_i + \\beta_1\\sum_{i=1}^{n} x_i^2  = \\sum_{i=1}^{n} x_i*y_i$$ (2)\n",
    "\n",
    "Now, dividing (1) by n and solve for $\\hat\\beta_0$ to get $\\hat\\beta_0 = \\frac{\\sum_{i=1}^{n} y_i}{n}-\\hat\\beta_1\\frac{\\sum_{i=1}^{n}x_i}{n}=\\bar{y} -\\hat\\beta_1\\bar{x}$\n",
    "\n",
    "Finally, substitute $\\hat\\beta_0$ in (2) to get:\n",
    "\n",
    "$$\\hat{\\beta_1}=\\frac{\\sum_{i=1}^{n} (x_i-\\bar{x})(y_i-\\bar{y})}{\\sum_{i=1}^{n} (x_i-\\bar{x})^2} $$\n",
    "\n",
    "Therefore, formula of $\\hat\\beta_0$ and $\\hat\\beta_1$ are:\n",
    "\n",
    "$$\\hat{\\beta_0}=\\bar{y}-\\hat{\\beta_1}\\bar{x}$$\n",
    "\n",
    "$$\\hat{\\beta_1}=\\frac{\\sum_{i=1}^{n} (x_i-\\bar{x})(y_i-\\bar{y})}{\\sum_{i=1}^{n} (x_i-\\bar{x})^2} $$"
   ]
  },
  {
   "cell_type": "markdown",
   "id": "6150660e",
   "metadata": {},
   "source": [
    "## (b):"
   ]
  },
  {
   "cell_type": "code",
   "execution_count": 13,
   "id": "8d1e0c81",
   "metadata": {},
   "outputs": [],
   "source": [
    "data2b = np.array([\n",
    "    [1, 1],\n",
    "    [2, 2],\n",
    "    [3, 3],\n",
    "    [4, 3.5]\n",
    "])\n",
    "x2b, y2b = data2b.T\n",
    "x2b_train = x2b.reshape(-1, 1)\n",
    "y2b_train = y2b.reshape(-1, 1)"
   ]
  },
  {
   "cell_type": "code",
   "execution_count": 14,
   "id": "a2366780",
   "metadata": {},
   "outputs": [
    {
     "name": "stdout",
     "output_type": "stream",
     "text": [
      "R2 is: 0.9796610169491525 \n",
      "Regression Coefficient is:  [[0.85]] \n",
      "Regression Intercept is:  [0.25]\n"
     ]
    }
   ],
   "source": [
    "from sklearn.linear_model import LinearRegression\n",
    "reg = LinearRegression().fit(x2b_train, y2b_train)\n",
    "print(\"R2 is:\", reg.score(x2b_train, y2b_train),\n",
    "      \"\\nRegression Coefficient is: \", reg.coef_,\n",
    "      \"\\nRegression Intercept is: \", reg.intercept_)"
   ]
  },
  {
   "cell_type": "markdown",
   "id": "8b32f57b",
   "metadata": {},
   "source": [
    "$$y_i=0.25+0.85*x_i$$\n",
    "\n",
    "meaning of $\\beta_1$: **as x increase 1 unit, the average difference in y increase 0.85 unit**"
   ]
  },
  {
   "cell_type": "markdown",
   "id": "9a062d90",
   "metadata": {},
   "source": [
    "# Question 3"
   ]
  },
  {
   "cell_type": "markdown",
   "id": "261fdcc8",
   "metadata": {},
   "source": [
    "## (a)\n",
    "One Hot Encoding:\n",
    "\n",
    "What: create additional single dummy variables to represent more than two level qualitative predictors\n",
    "\n",
    "If the categorical predictors only have two values, then convert to X=1 or 0; \n",
    "\n",
    "If the categorical predictors have more than two values, then transform into vector of appropriate dimension: \n",
    "    Asian -> [1 0 0]^T\n",
    "\n",
    "When: When there is more than **two** level of **qualitative** predictors."
   ]
  },
  {
   "cell_type": "markdown",
   "id": "af4d6244",
   "metadata": {},
   "source": [
    "## (b)\n",
    "\n",
    "(i) zipcode:\n",
    "No, because there are too many levels in zipcode. When there are too many levels, then the matrix will be very large which will result expensive computing. \n",
    "\n",
    "(ii) price:\n",
    "No, because price is our interested response value. If it convert to 0 or 1, then following data science steps will be no meaning. \n",
    "\n",
    "(iii) city:\n",
    "Yes, city is better than zipcode because there are not too many levels and it's a influence predictor for housing price.\n",
    "\n",
    "(iv) name:\n",
    "No, because it's not related to our response value a lot. Also, we could use count for number of house homeowner have instead of encoding.\n",
    "\n",
    "(v) year:\n",
    "Yes, because year has fit levels to be encoded. Year is also related to housing price a lot.\n"
   ]
  },
  {
   "cell_type": "markdown",
   "id": "8781ae0f",
   "metadata": {},
   "source": [
    "# Question 4\n",
    "\n",
    "## (a)\n",
    "\n",
    "overfitted\n",
    "\n",
    "## (b)\n",
    "\n",
    "good fit\n",
    "\n",
    "## (c)\n",
    "\n",
    "underfitted"
   ]
  },
  {
   "cell_type": "markdown",
   "id": "873086df",
   "metadata": {},
   "source": [
    "# Question 5\n",
    "\n",
    "## (a)\n",
    "\n",
    "False: \n",
    "\n",
    "We can solve the problem of linear regression by using **optimization algorithms such as gradient descent to iteratively adjust the model parameters** and minimize the MSE. Otherwise, it will be very expensive to compute. \n",
    "\n",
    "## (b)\n",
    "\n",
    "False: \n",
    "\n",
    "We can detect that a model is overfitting when the model performs **significantly better** on the training data than on the testing data, but it is not necessarily true that the training error is larger than the testing error.\n",
    "\n",
    "## (c)\n",
    "\n",
    "True: \n",
    "\n",
    "For regression problems, R2 is a measure of how much of the variability in the data is explained by the model. R2 takes values **between 0 and 1**, where 0 indicates that the model explains none of the variability in the data, and 1 indicates that the model explains all of the variability in the data. Since the explained variance can never be greater than the total variance, R2 can never be greater than 1.\n",
    "\n",
    "## (d)\n",
    "\n",
    "False: \n",
    "\n",
    "Multilinear regression and polynomial regression are two distinct regression techniques. *Polynomial regression is a special case of linear regression because we treat each $x^m$ as a separate predictors.*\n",
    "\n",
    "\n",
    "## (e)\n",
    "\n",
    "False: \n",
    "\n",
    "KNN is more likely to overfit the data as K gets **smaller**. As K gets larger, the model becomes less sensitive to the local structure of the data and more generalizable. If K is too small, the model may become too sensitive to the noise or outliers in the data, resulting in overfitting. In such cases, increasing K can help to smooth out the decision boundaries and reduce the effects of noise or outliers.\n"
   ]
  },
  {
   "cell_type": "code",
   "execution_count": null,
   "id": "c1d44100",
   "metadata": {},
   "outputs": [],
   "source": []
  }
 ],
 "metadata": {
  "kernelspec": {
   "display_name": "Python 3 (ipykernel)",
   "language": "python",
   "name": "python3"
  },
  "language_info": {
   "codemirror_mode": {
    "name": "ipython",
    "version": 3
   },
   "file_extension": ".py",
   "mimetype": "text/x-python",
   "name": "python",
   "nbconvert_exporter": "python",
   "pygments_lexer": "ipython3",
   "version": "3.9.12"
  }
 },
 "nbformat": 4,
 "nbformat_minor": 5
}

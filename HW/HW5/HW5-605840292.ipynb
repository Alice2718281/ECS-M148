{
 "cells": [
  {
   "cell_type": "markdown",
   "id": "f6cf7279",
   "metadata": {},
   "source": [
    "# Question 1\n",
    "\n",
    "## (a)"
   ]
  },
  {
   "cell_type": "markdown",
   "id": "12cc8708",
   "metadata": {},
   "source": [
    "## Gini Index: Wind"
   ]
  },
  {
   "cell_type": "code",
   "execution_count": 2,
   "id": "f0348b43",
   "metadata": {},
   "outputs": [],
   "source": [
    "parent_gini_wind = 1-((8/14)**2+(6/14)**2)\n",
    "left_child_gini_weakwind = 1-((6/7)**2+(1/7)**2)\n",
    "right_child_gini_strongwind = 1-((2/7)**2+(5/7)**2)"
   ]
  },
  {
   "cell_type": "code",
   "execution_count": 3,
   "id": "b5a3834e",
   "metadata": {},
   "outputs": [
    {
     "name": "stdout",
     "output_type": "stream",
     "text": [
      "Gini Index for strong wind is 0.40816326530612246 \n",
      "Gini Index for weak wind is 0.24489795918367352 \n",
      "Gini Index gain is 0.16326530612244905\n"
     ]
    }
   ],
   "source": [
    "gini_index_gain_wind = parent_gini_wind-(7/14*left_child_gini_weakwind+7/14*right_child_gini_strongwind)\n",
    "print(\"Gini Index for strong wind is\", right_child_gini_strongwind,\n",
    "     \"\\nGini Index for weak wind is\", left_child_gini_weakwind, \n",
    "     \"\\nGini Index gain is\", gini_index_gain_wind)"
   ]
  },
  {
   "cell_type": "markdown",
   "id": "a093147b",
   "metadata": {},
   "source": [
    "## Gini Index: Humidity"
   ]
  },
  {
   "cell_type": "code",
   "execution_count": 4,
   "id": "00d3adb5",
   "metadata": {},
   "outputs": [],
   "source": [
    "parent_gini_humidity = 1-((8/14)**2+(6/14)**2)\n",
    "left_child_gini_high = 1-((4/9)**2+(5/9)**2)\n",
    "right_child_gini_normal = 1-((4/5)**2+(1/5)**2)"
   ]
  },
  {
   "cell_type": "code",
   "execution_count": 5,
   "id": "6882ce07",
   "metadata": {},
   "outputs": [
    {
     "name": "stdout",
     "output_type": "stream",
     "text": [
      "Gini Index for high humidity is 0.49382716049382713 \n",
      "Gini Index for normal humidity is 0.31999999999999984 \n",
      "Gini Index gain is 0.05804988662131538\n"
     ]
    }
   ],
   "source": [
    "gini_index_gain_humidity = parent_gini_humidity-(9/14*left_child_gini_high+5/14*right_child_gini_normal)\n",
    "print(\"Gini Index for high humidity is\", left_child_gini_high,\n",
    "     \"\\nGini Index for normal humidity is\", right_child_gini_normal, \n",
    "     \"\\nGini Index gain is\", gini_index_gain_humidity)"
   ]
  },
  {
   "cell_type": "markdown",
   "id": "836e4b88",
   "metadata": {},
   "source": [
    "## (b)\n",
    "\n",
    "**Wind feature** will provide better Gini Index Gain because it has **higher** value (the higher Gini Index the better split). \n",
    "\n",
    "## (c)\n",
    "\n",
    "## Entropy: Wind"
   ]
  },
  {
   "cell_type": "code",
   "execution_count": 6,
   "id": "880362e7",
   "metadata": {},
   "outputs": [],
   "source": [
    "import math"
   ]
  },
  {
   "cell_type": "code",
   "execution_count": 7,
   "id": "660b2ebb",
   "metadata": {},
   "outputs": [],
   "source": [
    "parent_entropy = -8/14*math.log2(8/14)-6/14*math.log2(6/14)\n",
    "left_child_entroy_weakwind = -6/7*math.log2(6/7)-1/7*math.log2(1/7)\n",
    "right_child_entroy_strongwind = -2/7*math.log2(2/7)-5/7*math.log2(5/7)"
   ]
  },
  {
   "cell_type": "code",
   "execution_count": 8,
   "id": "5c5c1d50",
   "metadata": {},
   "outputs": [
    {
     "name": "stdout",
     "output_type": "stream",
     "text": [
      "Entropy for strong wind is 0.863120568566631 \n",
      "Entropy for weak wind is 0.5916727785823275 \\Information gain is 0.2578314624597723\n"
     ]
    }
   ],
   "source": [
    "entropy_wind = parent_entropy-(7/14*left_child_entroy_weakwind+7/14*right_child_entroy_strongwind)\n",
    "print(\"Entropy for strong wind is\", right_child_entroy_strongwind,\n",
    "     \"\\nEntropy for weak wind is\", left_child_entroy_weakwind, \n",
    "     \"\\Information gain is\", entropy_wind)"
   ]
  },
  {
   "cell_type": "markdown",
   "id": "0beab2a2",
   "metadata": {},
   "source": [
    "## Entropy: Humidity"
   ]
  },
  {
   "cell_type": "code",
   "execution_count": 9,
   "id": "cb8b5f57",
   "metadata": {},
   "outputs": [],
   "source": [
    "#parent_entropy = -8/14*math.log2(8/14)-6/14*math.log2(6/14)\n",
    "left_child_entroy_high = -4/9*math.log2(4/9)-5/9*math.log2(5/9)\n",
    "right_child_entroy_normal = -4/5*math.log2(4/5)-1/5*math.log2(1/5)"
   ]
  },
  {
   "cell_type": "code",
   "execution_count": 10,
   "id": "56f49956",
   "metadata": {},
   "outputs": [
    {
     "name": "stdout",
     "output_type": "stream",
     "text": [
      "Entropy for high humidity is 0.9910760598382222 \n",
      "Entropy for normal humidity is 0.7219280948873623 \n",
      "Information gain is 0.09027634939276485\n"
     ]
    }
   ],
   "source": [
    "entropy_humidity = parent_entropy-(9/14*left_child_entroy_high+5/14*right_child_entroy_normal)\n",
    "print(\"Entropy for high humidity is\", left_child_entroy_high,\n",
    "     \"\\nEntropy for normal humidity is\", right_child_entroy_normal, \n",
    "     \"\\nInformation gain is\", entropy_humidity)"
   ]
  },
  {
   "cell_type": "markdown",
   "id": "0cea4587",
   "metadata": {},
   "source": [
    "## (d)\n",
    "\n",
    "**Wind feature** will provide better Information Gain because it has **higher** entropy value (the higher the better means we gain more information). \n",
    "\n",
    "# Question 2"
   ]
  },
  {
   "cell_type": "code",
   "execution_count": 11,
   "id": "07cda21c",
   "metadata": {},
   "outputs": [],
   "source": [
    "import matplotlib.pyplot as plt\n",
    "import matplotlib.colors"
   ]
  },
  {
   "cell_type": "code",
   "execution_count": 19,
   "id": "ec6436fb",
   "metadata": {},
   "outputs": [
    {
     "name": "stdout",
     "output_type": "stream",
     "text": [
      "new clusters centroids:( 4.3 3.5 )\n",
      "new clusters centroids:( 3.3 3.0 )\n"
     ]
    },
    {
     "data": {
      "image/png": "[encoded data removed]",
      "text/plain": [
       "<Figure size 432x288 with 1 Axes>"
      ]
     },
     "metadata": {
      "needs_background": "light"
     },
     "output_type": "display_data"
    }
   ],
   "source": [
    "x1 = [1,2,4,6,5,8,4,3,3]\n",
    "x2 = [1,4,1,3,7,1,4,6,3]\n",
    "centroid1=[2,2]\n",
    "centroid2=[5,5]\n",
    "\n",
    "def kmeans(x,y):\n",
    "    \n",
    "    labels = []\n",
    "    legends = ['cluster 1', 'cluster 2', 'new centroid']\n",
    "    \n",
    "    for i in range(len(x)):\n",
    "        d1 = (x[i]-centroid1[0])^2 + (y[i]-centroid1[1])^2\n",
    "        d2 = (x[i]-centroid2[0])^2 + (y[i]-centroid2[1])^2\n",
    "        \n",
    "        if math.exp(d1) / (math.exp(d1)+math.exp(d2)) > 0.5:\n",
    "            labels.append(0)\n",
    "        else: \n",
    "            labels. append(1)\n",
    "            \n",
    "    \n",
    "    for i in range(2):\n",
    "        new_c1 = 0\n",
    "        new_c2 = 0\n",
    "        \n",
    "        for j in range(len(x)):\n",
    "            if labels[j] == i:\n",
    "                new_c1 += x[j]\n",
    "                new_c2 += y[j]\n",
    "                \n",
    "        new_c1 = new_c1 / labels.count(i)\n",
    "        new_c2 = new_c2 / labels.count(i)\n",
    "        \n",
    "        x.append(new_c1)\n",
    "        y.append(new_c2)\n",
    "        labels.append(2)\n",
    "        print(\"new clusters centroids:(\", round(new_c1,1), round(new_c2,1), \")\")\n",
    "        #print(labels)\n",
    "    \n",
    "    cmap = matplotlib.colors.ListedColormap(['r','g','b'])\n",
    "    legends = ['cluster 1', 'cluster 2', 'new cluster centroids']\n",
    "    scatter = plt.scatter(x1,x2, c=labels, cmap=cmap)\n",
    "    plt.grid()\n",
    "    plt.legend(handles = scatter.legend_elements()[0], labels=legends, loc='upper right')\n",
    "    plt.show()\n",
    "kmeans(x1,x2)"
   ]
  },
  {
   "cell_type": "markdown",
   "id": "cf06bbf7",
   "metadata": {},
   "source": [
    "# Question 3"
   ]
  },
  {
   "cell_type": "markdown",
   "id": "99024644",
   "metadata": {},
   "source": [
    "## (a)\n",
    "\n",
    "It will not affect decision boundary too much because the decision boundary in SVM is determined by the support vectors, which are the data points **closest to the margin**.\n",
    "\n",
    "## (b)\n",
    "\n",
    "Hard Margin SVM:\n",
    "\n",
    "Hard margin SVM aims to find a decision boundary that **completely separates the classes without allowing any misclassified points**. If the data is not linearly separable or there are outliers, hard margin SVM may fail to find a feasible solution.\n",
    "\n",
    "Soft Margin SVM:\n",
    "\n",
    "Soft margin SVM relaxes the strict requirement of perfect separation by **allowing some misclassified or overlapping points**.\n",
    "\n",
    "The C parameter controls the trade-off between allowing misclassifications and maintaining a wider margin. A smaller C value allows for more misclassifications and a wider margin (soft margin SVM), while a larger C value enforces stricter classification and a narrower margin (hard margin SVM). \n",
    "\n",
    "## (c)\n",
    "\n",
    "**5 support vector**\n",
    "\n",
    "Hard margin SVM will completely separates two classes. After removing circled +, the closest + points to \"-\" class will become 3 instead of 1. Also add 2 - class support vectors, we will have 5 support vectors in total. "
   ]
  },
  {
   "cell_type": "markdown",
   "id": "4e64461f",
   "metadata": {},
   "source": [
    "# Question 4\n",
    "\n",
    "logistic regression: $${\\ln(\\frac{P(Y=1|X)}{1-P(Y=1|X)})} = \\beta_0 + \\beta_1 X$$\n",
    "\n",
    "Multinomial case have K classes: for $i \\in {1,2..., K-1}$\n",
    "\n",
    "$${\\ln(\\frac{P(Y=i|X)}{P(Y=K|X)})} = \\beta_{0,i} + \\beta_{1,i} X$$\n",
    "\n",
    "$$P(Y=i|X) = e^{\\beta_{0,i} + \\beta_{1,i} X} P(Y=K|X) (1)$$\n",
    "\n",
    "Due to: $\\sum_{i=1} ^{K} P(Y=i|X)=1$\n",
    "\n",
    "$$\\sum_{i=1} ^{K} P(Y=K|X)*e^{\\beta_{0,i} + \\beta_{1,i} X}=1$$\n",
    "\n",
    "$$P(Y=K|X)\\sum_{i=1} ^{K} e^{\\beta_{0,i} + \\beta_{1,i} X}=1$$\n",
    "\n",
    "When k=i, $\\ln(\\frac{P(i=K|X)}{P(K|X)}) = \\ln(1)$, also $e^{\\ln(1)}=1$, so\n",
    "\n",
    "$$P(Y=K|X) = \\frac{1}{1+\\sum_{i=1} ^{K-1} e^{\\beta_{0,i} + \\beta_{1,i} X}} (2)$$\n",
    "\n",
    "replace (2) into (1):\n",
    "\n",
    "$$P(Y=i|X) =  \\frac{e^{\\beta_{0,i} + \\beta_{1,i} X}}{1+\\sum_{i=1} ^{K-1} e^{\\beta_{0,i} + \\beta_{1,i} X}}(i \\in {1,2..., K-1})$$ \n",
    "\n",
    "For $1\\le i \\ge K$:\n",
    "\n",
    "$$\\ln P(Y=i|X) = \\beta_{0,i} + \\beta_{1,i} X -\\ln Z$$\n",
    "\n",
    "Because normalization term with Z in it has probabilities sum up to 1: \n",
    "\n",
    "$$P(Y=i|X) =  \\frac{e^{\\beta_{0,i} + \\beta_{1,i} X}}{\\sum_{i=1} ^{K} e^{\\beta_{0,i} + \\beta_{1,i} X}}1\\le i \\le K$$"
   ]
  },
  {
   "cell_type": "markdown",
   "id": "b73b9bb2",
   "metadata": {},
   "source": [
    "## (b)\n",
    "\n",
    "$$P(Y=1|X) = \\frac{e^{-0.2+0.06*5}}{e^{-0.2+0.06*5}+e^{0.2+0.04*5}+e^{0.3+0.5*5}}=0.058$$\n",
    "\n",
    "$$P(Y=2|X) = \\frac{e^{0.2+0.04*5}}{e^{-0.2+0.06*5}+e^{0.2+0.04*5}+e^{0.3+0.5*5}}=0.078$$\n",
    "\n",
    "$$P(Y=3|X) = \\frac{e^{0.3+0.5*5}}{e^{-0.2+0.06*5}+e^{0.2+0.04*5}+e^{0.3+0.5*5}}=0.864$$\n",
    "\n",
    "So, test point will be assigned to **class 3**"
   ]
  },
  {
   "cell_type": "markdown",
   "id": "65dc66fb",
   "metadata": {},
   "source": [
    "# Question 5"
   ]
  },
  {
   "cell_type": "markdown",
   "id": "2a164386",
   "metadata": {},
   "source": [
    "## (a)\n",
    "\n",
    "False: \n",
    "\n",
    "For regression trees, we pick the feature and split point that **minimizes** the mean squared error (MSE). \n",
    "\n",
    "## (b)\n",
    "\n",
    "False: \n",
    "K-mean algorithm is sensitive to the initial placement of centroids and can converge to different solutions depending on the initial configuration.\n",
    "\n",
    "Different initializations can result in different final cluster assignments and centroid locations. To mitigate this sensitivity, K-means is often run multiple times with different random initializations, and the solution with the lowest objective function value is chosen as the final result. This approach helps reduce the impact of random initialization on the stability and quality of the clustering solution.\n",
    "\n",
    "## (c)\n",
    "\n",
    "True: \n",
    "The objective of agglomerative clustering is to minimize the overall distortion.\n",
    "\n",
    "## (d)\n",
    "\n",
    "False:\n",
    "\n",
    "In soft margin SVM, the constant λ, the regularization parameter or penalty parameter, controls the trade-off between maximizing the margin and allowing some training points to violate the margin or be misclassified.\n",
    "\n",
    "A larger value of λ imposes a stronger penalty for violating the margin or misclassifying points, leading to a more strict classification. This can result in a **narrower margin** as the algorithm tries to minimize the errors and enforce a stricter separation between classes.\n",
    "\n",
    "## (e)\n",
    "\n",
    "True: \n",
    "\n",
    "The purpose of using a random forest of shallow decision trees learned on bootstrapped samples is indeed to avoid overfitting. Random forests are an ensemble learning method that combines multiple decision trees to make predictions. By constructing a forest of trees and training each tree on a different bootstrapped sample of the data, the individual trees are encouraged to have low correlation with each other."
   ]
  }
 ],
 "metadata": {
  "kernelspec": {
   "display_name": "Python 3 (ipykernel)",
   "language": "python",
   "name": "python3"
  },
  "language_info": {
   "codemirror_mode": {
    "name": "ipython",
    "version": 3
   },
   "file_extension": ".py",
   "mimetype": "text/x-python",
   "name": "python",
   "nbconvert_exporter": "python",
   "pygments_lexer": "ipython3",
   "version": "3.9.12"
  }
 },
 "nbformat": 4,
 "nbformat_minor": 5
}
